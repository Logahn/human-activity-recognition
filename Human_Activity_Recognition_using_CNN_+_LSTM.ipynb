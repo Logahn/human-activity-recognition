{
  "cells": [
    {
      "cell_type": "markdown",
      "metadata": {
        "colab_type": "text",
        "id": "view-in-github"
      },
      "source": [
        "<a href=\"https://colab.research.google.com/github/Logahn/human-activity-recognition/blob/master/Human_Activity_Recognition_using_CNN_%2B_LSTM.ipynb\" target=\"_parent\"><img src=\"https://colab.research.google.com/assets/colab-badge.svg\" alt=\"Open In Colab\"/></a>"
      ]
    },
    {
      "cell_type": "markdown",
      "metadata": {
        "id": "sm2sMH33XqwP"
      },
      "source": [
        "\n",
        "# **<center><font style=\"color:rgb(100,109,254)\">Human Action Recognition in Videos using Keras (CNN + LSTM)</font> </center>**\n",
        "\n",
        "<center>\n",
        "<img src='https://drive.google.com/uc?export=download&id=1ucdFpzyVbzTa7kPYsJ2av-gRKgd84ICA'></center>"
      ]
    },
    {
      "cell_type": "markdown",
      "metadata": {
        "id": "TTMIrphPmwlV"
      },
      "source": [
        "# Imports"
      ]
    },
    {
      "cell_type": "markdown",
      "metadata": {
        "id": "H1Xpbgwnom2N"
      },
      "source": [
        "### Install libraries for retrieving meta data from YouTube videos"
      ]
    },
    {
      "cell_type": "code",
      "execution_count": 1,
      "metadata": {
        "colab": {
          "base_uri": "https://localhost:8080/"
        },
        "id": "PPwUMHAJm3vy",
        "outputId": "567d75f8-a2bb-4360-c204-c343176781c9"
      },
      "outputs": [
        {
          "name": "stdout",
          "output_type": "stream",
          "text": [
            "Collecting youtube-dl\n",
            "  Downloading youtube_dl-2021.12.17-py2.py3-none-any.whl (1.9 MB)\n",
            "\u001b[K     |████████████████████████████████| 1.9 MB 875 kB/s eta 0:00:01\n",
            "\u001b[?25hCollecting moviepy\n",
            "  Downloading moviepy-1.0.3.tar.gz (388 kB)\n",
            "\u001b[K     |████████████████████████████████| 388 kB 1.9 MB/s eta 0:00:01\n",
            "\u001b[?25hCollecting decorator<5.0,>=4.0.2\n",
            "  Using cached decorator-4.4.2-py2.py3-none-any.whl (9.2 kB)\n",
            "Collecting proglog<=1.0.0\n",
            "  Downloading proglog-0.1.10-py3-none-any.whl (6.1 kB)\n",
            "Requirement already satisfied: requests<3.0,>=2.8.1 in /usr/local/lib/python3.8/dist-packages (from moviepy) (2.28.1)\n",
            "Requirement already satisfied: tqdm<5.0,>=4.11.2 in /home/logan/.local/lib/python3.8/site-packages (from moviepy) (4.61.2)\n",
            "Requirement already satisfied: numpy>=1.17.3 in /home/logan/.local/lib/python3.8/site-packages (from moviepy) (1.19.5)\n",
            "Requirement already satisfied: imageio<3.0,>=2.5 in /home/logan/.local/lib/python3.8/site-packages (from moviepy) (2.13.3)\n",
            "Collecting imageio_ffmpeg>=0.2.0\n",
            "  Downloading imageio_ffmpeg-0.4.7-py3-none-manylinux2010_x86_64.whl (26.9 MB)\n",
            "\u001b[K     |████████████████████████████████| 26.9 MB 681 kB/s eta 0:00:01    |████████▏                       | 6.8 MB 806 kB/s eta 0:00:25     |██████████████████              | 15.2 MB 411 kB/s eta 0:00:29     |████████████████████████████▉   | 24.2 MB 419 kB/s eta 0:00:07\n",
            "\u001b[?25hRequirement already satisfied: idna<4,>=2.5 in /usr/lib/python3/dist-packages (from requests<3.0,>=2.8.1->moviepy) (2.8)\n",
            "Requirement already satisfied: charset-normalizer<3,>=2 in /usr/local/lib/python3.8/dist-packages (from requests<3.0,>=2.8.1->moviepy) (2.1.0)\n",
            "Requirement already satisfied: urllib3<1.27,>=1.21.1 in /home/logan/.local/lib/python3.8/site-packages (from requests<3.0,>=2.8.1->moviepy) (1.26.9)\n",
            "Requirement already satisfied: certifi>=2017.4.17 in /usr/lib/python3/dist-packages (from requests<3.0,>=2.8.1->moviepy) (2019.11.28)\n",
            "Requirement already satisfied: pillow>=8.3.2 in /home/logan/.local/lib/python3.8/site-packages (from imageio<3.0,>=2.5->moviepy) (8.4.0)\n",
            "Building wheels for collected packages: moviepy\n",
            "  Building wheel for moviepy (setup.py) ... \u001b[?25ldone\n",
            "\u001b[?25h  Created wheel for moviepy: filename=moviepy-1.0.3-py3-none-any.whl size=110730 sha256=48bf14438421c66dbda174678cec9981a4f43c547e04c8c4007002a12ad6bf43\n",
            "  Stored in directory: /home/logan/.cache/pip/wheels/e4/a4/db/0368d3a04033da662e13926594b3a8cf1aa4ffeefe570cfac1\n",
            "Successfully built moviepy\n",
            "Installing collected packages: youtube-dl, decorator, proglog, imageio-ffmpeg, moviepy\n",
            "  Attempting uninstall: decorator\n",
            "    Found existing installation: decorator 5.0.9\n",
            "    Uninstalling decorator-5.0.9:\n",
            "      Successfully uninstalled decorator-5.0.9\n",
            "Successfully installed decorator-4.4.2 imageio-ffmpeg-0.4.7 moviepy-1.0.3 proglog-0.1.10 youtube-dl-2021.12.17\n",
            "Requirement already satisfied: moviepy in /home/logan/.local/lib/python3.8/site-packages (1.0.3)\n",
            "Requirement already satisfied: numpy; python_version >= \"2.7\" in /home/logan/.local/lib/python3.8/site-packages (from moviepy) (1.19.5)\n",
            "Requirement already satisfied: proglog<=1.0.0 in /home/logan/.local/lib/python3.8/site-packages (from moviepy) (0.1.10)\n",
            "Requirement already satisfied: imageio<3.0,>=2.5; python_version >= \"3.4\" in /home/logan/.local/lib/python3.8/site-packages (from moviepy) (2.13.3)\n",
            "Requirement already satisfied: imageio-ffmpeg>=0.2.0; python_version >= \"3.4\" in /home/logan/.local/lib/python3.8/site-packages (from moviepy) (0.4.7)\n",
            "Requirement already satisfied: decorator<5.0,>=4.0.2 in /home/logan/.local/lib/python3.8/site-packages (from moviepy) (4.4.2)\n",
            "Requirement already satisfied: requests<3.0,>=2.8.1 in /usr/local/lib/python3.8/dist-packages (from moviepy) (2.28.1)\n",
            "Requirement already satisfied: tqdm<5.0,>=4.11.2 in /home/logan/.local/lib/python3.8/site-packages (from moviepy) (4.61.2)\n",
            "Requirement already satisfied: pillow>=8.3.2 in /home/logan/.local/lib/python3.8/site-packages (from imageio<3.0,>=2.5; python_version >= \"3.4\"->moviepy) (8.4.0)\n",
            "Requirement already satisfied: charset-normalizer<3,>=2 in /usr/local/lib/python3.8/dist-packages (from requests<3.0,>=2.8.1->moviepy) (2.1.0)\n",
            "Requirement already satisfied: idna<4,>=2.5 in /usr/lib/python3/dist-packages (from requests<3.0,>=2.8.1->moviepy) (2.8)\n",
            "Requirement already satisfied: urllib3<1.27,>=1.21.1 in /home/logan/.local/lib/python3.8/site-packages (from requests<3.0,>=2.8.1->moviepy) (1.26.9)\n",
            "Requirement already satisfied: certifi>=2017.4.17 in /usr/lib/python3/dist-packages (from requests<3.0,>=2.8.1->moviepy) (2019.11.28)\n",
            "Requirement already satisfied: imageio-ffmpeg in /home/logan/.local/lib/python3.8/site-packages (0.4.7)\n",
            "Collecting pafy\n",
            "  Cloning https://github.com/TahaAnwar/pafy.git to /tmp/pip-install-wh24sr75/pafy\n",
            "  Running command git clone -q https://github.com/TahaAnwar/pafy.git /tmp/pip-install-wh24sr75/pafy\n",
            "Building wheels for collected packages: pafy\n",
            "  Building wheel for pafy (setup.py) ... \u001b[?25ldone\n",
            "\u001b[?25h  Created wheel for pafy: filename=pafy-0.5.5-py2.py3-none-any.whl size=35675 sha256=d87f27cdcd1be769b8381ebdf36d6bd6fb0f9b393b9abf39cf016142abcfad23\n",
            "  Stored in directory: /tmp/pip-ephem-wheel-cache-nju0lbxe/wheels/c0/e4/8e/5d786fc511415234eceb5cbda83372664823f6d06f4cba9dea\n",
            "Successfully built pafy\n",
            "Installing collected packages: pafy\n",
            "Successfully installed pafy-0.5.5\n"
          ]
        }
      ],
      "source": [
        "!pip install youtube-dl moviepy\n",
        "!pip install moviepy\n",
        "!pip install imageio-ffmpeg\n",
        "!pip3 install imageio==2.4.1\n",
        "!pip install --upgrade imageio-ffmpeg\n",
        "!pip install git+https://github.com/TahaAnwar/pafy.git#egg=pafy"
      ]
    },
    {
      "cell_type": "markdown",
      "metadata": {
        "id": "_J5S1rzeo_n5"
      },
      "source": [
        "### Import required libraries"
      ]
    },
    {
      "cell_type": "code",
      "execution_count": 6,
      "metadata": {
        "id": "myFDHeRjpEwz"
      },
      "outputs": [],
      "source": [
        "import os\n",
        "import cv2\n",
        "import pafy\n",
        "import math\n",
        "import random\n",
        "import numpy as np\n",
        "import datetime as dt\n",
        "import tensorflow as tf\n",
        "import collections as deque\n",
        "import matplotlib.pyplot as plt\n",
        "\n",
        "from moviepy.editor import *\n",
        "%matplotlib inline\n",
        "\n",
        "from sklearn.model_selection import  *\n",
        "\n",
        "from tensorflow.keras.layers import *\n",
        "from tensorflow.keras.models import Sequential\n",
        "from tensorflow.keras.utils import to_categorical\n",
        "from tensorflow.keras.callbacks import EarlyStopping\n",
        "from tensorflow.keras.utils import plot_model"
      ]
    },
    {
      "cell_type": "markdown",
      "metadata": {},
      "source": [
        "##### Restrict randomness assigned to a variable by setting `Numpy`, `Python` and `Tensorflow` seeds"
      ]
    },
    {
      "cell_type": "code",
      "execution_count": null,
      "metadata": {},
      "outputs": [],
      "source": [
        "seed_constant = 27\n",
        "np.random.seed(seed_constant)\n",
        "random.seed(seed_constant)\n",
        "tf.random.set_seed(seed_constant)"
      ]
    },
    {
      "cell_type": "markdown",
      "metadata": {},
      "source": [
        "## Step 1:"
      ]
    },
    {
      "cell_type": "markdown",
      "metadata": {},
      "source": [
        "### Download and Visualize Data and Labels"
      ]
    },
    {
      "cell_type": "markdown",
      "metadata": {},
      "source": [
        "Dataset source:  [UCF50 - Action Recognition Dataset](https://www.crcv.ucf.edu/data/UCF50.php)\n",
        "\n",
        "Dataset contents:\n",
        "*   **`50`** Action Categories\n",
        "\n",
        "*   **`25`** Groups of Videos per Action Category\n",
        "\n",
        "*   **`133`** Average Videos per Action Category\n",
        "\n",
        "*   **`199`** Average Number of Frames per Video\n",
        "\n",
        "*   **`320`** Average Frames Width per Video\n",
        "\n",
        "*   **`240`** Average Frames Height per Video\n",
        "\n",
        "*   **`26`** Average Frames Per Seconds per Video"
      ]
    },
    {
      "cell_type": "code",
      "execution_count": null,
      "metadata": {},
      "outputs": [],
      "source": [
        "%%capture\n",
        "\n",
        "# Downlaod the UCF50 Dataset\n",
        "!wget --no-check-certificate https://www.crcv.ucf.edu/data/UCF50.rar\n",
        "\n",
        "# Dataset extraction\n",
        "!unrar x UCF50.rar"
      ]
    },
    {
      "cell_type": "markdown",
      "metadata": {},
      "source": [
        "TODO:\n",
        "*   Select 20 random categories from the dataset.\n",
        "*   Select 1 random video from each category.\n",
        "*   Visualize the first frame of the selected vidoes and their labels written.\n",
        "\n"
      ]
    },
    {
      "cell_type": "code",
      "execution_count": null,
      "metadata": {},
      "outputs": [],
      "source": [
        "# specify figure size\n",
        "plt.figure(figsize = (20,20)) \n",
        "\n",
        "# Get the names of the categories from the Computing Engine\n",
        "all_classes_names =  os.listdir('UCF50')  \n",
        "\n",
        "# Create a list of random values.\n",
        "# Length of generated list = 20\n",
        "# Length of generated list source == len(all_classes_names) == 50\n",
        "random_range = random.sample(range(len(all_classes_names)), 20)\n",
        "for counter, random_index in enumerate(random_range, 1):\n",
        "  # Get a random class name from the generated list\n",
        "    selected_class_Name = all_classes_names[random_index]\n",
        "\n",
        "    # Retrieve the list of all the video files present in the randomly selected Class Directory.\n",
        "    video_files_names_list = os.listdir(f'UCF50/{selected_class_Name}')\n",
        "\n",
        "    # Randomly select a video file from the list retrieved from the randomly selected Class Directory.\n",
        "    selected_video_file_name = random.choice(video_files_names_list)\n",
        "\n",
        "    # Initialize a Video Capture object to read from the video File.\n",
        "    video_reader = cv2.VideoCapture(f'UCF50/{selected_class_Name}/{selected_video_file_name}')\n",
        "    \n",
        "    # Read the first frame of the video file.\n",
        "    _, bgr_frame = video_reader.read()\n",
        "\n",
        "    # Release the VideoCapture object. \n",
        "    video_reader.release()\n",
        "\n",
        "    # Convert the frame from BGR into RGB format. \n",
        "    rgb_frame = cv2.cvtColor(bgr_frame, cv2.COLOR_BGR2RGB)\n",
        "\n",
        "    # Write the class name on the video frame.\n",
        "    cv2.putText(rgb_frame, selected_class_Name, (10, 30), cv2.FONT_HERSHEY_SIMPLEX, 1, (255, 255, 255), 2)\n",
        "    \n",
        "    # Display the frame.\n",
        "    plt.subplot(5, 4, counter);plt.imshow(rgb_frame);plt.axis('off')"
      ]
    }
  ],
  "metadata": {
    "colab": {
      "authorship_tag": "ABX9TyPbuRyjUwybs28stQajOxn/",
      "collapsed_sections": [],
      "include_colab_link": true,
      "provenance": []
    },
    "kernelspec": {
      "display_name": "Python 3.8.10 64-bit",
      "language": "python",
      "name": "python3"
    },
    "language_info": {
      "codemirror_mode": {
        "name": "ipython",
        "version": 3
      },
      "file_extension": ".py",
      "mimetype": "text/x-python",
      "name": "python",
      "nbconvert_exporter": "python",
      "pygments_lexer": "ipython3",
      "version": "3.8.10"
    },
    "vscode": {
      "interpreter": {
        "hash": "31f2aee4e71d21fbe5cf8b01ff0e069b9275f58929596ceb00d14d90e3e16cd6"
      }
    }
  },
  "nbformat": 4,
  "nbformat_minor": 0
}
