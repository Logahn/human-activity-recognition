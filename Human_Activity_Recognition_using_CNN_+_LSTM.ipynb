{
  "nbformat": 4,
  "nbformat_minor": 0,
  "metadata": {
    "colab": {
      "provenance": [],
      "authorship_tag": "ABX9TyNPiWfXSfuUeEbFKiojgm9P",
      "include_colab_link": true
    },
    "kernelspec": {
      "name": "python3",
      "display_name": "Python 3"
    },
    "language_info": {
      "name": "python"
    }
  },
  "cells": [
    {
      "cell_type": "markdown",
      "metadata": {
        "id": "view-in-github",
        "colab_type": "text"
      },
      "source": [
        "<a href=\"https://colab.research.google.com/github/Logahn/human-activity-recognition/blob/master/Human_Activity_Recognition_using_CNN_%2B_LSTM.ipynb\" target=\"_parent\"><img src=\"https://colab.research.google.com/assets/colab-badge.svg\" alt=\"Open In Colab\"/></a>"
      ]
    },
    {
      "cell_type": "markdown",
      "source": [
        "\n",
        "# **<center><font style=\"color:rgb(100,109,254)\">Human Action Recognition in Videos using Keras (CNN + LSTM)</font> </center>**\n",
        "\n",
        "<center>\n",
        "<img src='https://drive.google.com/uc?export=download&id=1ucdFpzyVbzTa7kPYsJ2av-gRKgd84ICA'></center>"
      ],
      "metadata": {
        "id": "sm2sMH33XqwP"
      }
    }
  ]
}