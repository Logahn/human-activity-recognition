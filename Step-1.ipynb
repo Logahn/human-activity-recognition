{
 "cells": [
  {
   "cell_type": "markdown",
   "metadata": {},
   "source": [
    "## Step 1:"
   ]
  },
  {
   "cell_type": "markdown",
   "metadata": {},
   "source": [
    "### Download and Visualize Data and Labels"
   ]
  },
  {
   "cell_type": "markdown",
   "metadata": {},
   "source": [
    "Dataset source:  [UCF50 - Action Recognition Dataset](https://www.crcv.ucf.edu/data/UCF50.php)\n",
    "\n",
    "Dataset contents:\n",
    "*   **`50`** Action Categories\n",
    "\n",
    "*   **`25`** Groups of Videos per Action Category\n",
    "\n",
    "*   **`133`** Average Videos per Action Category\n",
    "\n",
    "*   **`199`** Average Number of Frames per Video\n",
    "\n",
    "*   **`320`** Average Frames Width per Video\n",
    "\n",
    "*   **`240`** Average Frames Height per Video\n",
    "\n",
    "*   **`26`** Average Frames Per Seconds per Video"
   ]
  },
  {
   "cell_type": "code",
   "execution_count": null,
   "metadata": {},
   "outputs": [],
   "source": [
    "%%capture\n",
    "\n",
    "# Downlaod the UCF50 Dataset\n",
    "!wget --no-check-certificate https://www.crcv.ucf.edu/data/UCF50.rar\n",
    "\n",
    "# Dataset extraction\n",
    "!unrar x UCF50.rar"
   ]
  },
  {
   "cell_type": "markdown",
   "metadata": {},
   "source": [
    "TODO:\n",
    "*   Select 20 random categories from the dataset.\n",
    "*   Select 1 random video from each category.\n",
    "*   Visualize the first frame of the selected vidoes and their labels written.\n",
    "\n"
   ]
  },
  {
   "cell_type": "code",
   "execution_count": null,
   "metadata": {},
   "outputs": [],
   "source": [
    "# specify figure size\n",
    "plt.figure(figsize = (20,20)) \n",
    "\n",
    "# Get the names of the categories from the Computing Engine\n",
    "all_classes_names =  os.listdir('UCF50')  \n",
    "\n",
    "# Create a list of random values.\n",
    "# Length of generated list = 20\n",
    "# Length of generated list source == len(all_classes_names) == 50\n",
    "random_range = random.sample(range(len(all_classes_names)), 20)\n",
    "for counter, random_index in enumerate(random_range, 1):\n",
    "  # Get a random class name from the generated list\n",
    "    selected_class_Name = all_classes_names[random_index]\n",
    "\n",
    "    # Retrieve the list of all the video files present in the randomly selected Class Directory.\n",
    "    video_files_names_list = os.listdir(f'UCF50/{selected_class_Name}')\n",
    "\n",
    "    # Randomly select a video file from the list retrieved from the randomly selected Class Directory.\n",
    "    selected_video_file_name = random.choice(video_files_names_list)\n",
    "\n",
    "    # Initialize a Video Capture object to read from the video File.\n",
    "    video_reader = cv2.VideoCapture(f'UCF50/{selected_class_Name}/{selected_video_file_name}')\n",
    "    \n",
    "    # Read the first frame of the video file.\n",
    "    _, bgr_frame = video_reader.read()\n",
    "\n",
    "    # Release the VideoCapture object. \n",
    "    video_reader.release()\n",
    "\n",
    "    # Convert the frame from BGR into RGB format. \n",
    "    rgb_frame = cv2.cvtColor(bgr_frame, cv2.COLOR_BGR2RGB)\n",
    "\n",
    "    # Write the class name on the video frame.\n",
    "    cv2.putText(rgb_frame, selected_class_Name, (10, 30), cv2.FONT_HERSHEY_SIMPLEX, 1, (255, 255, 255), 2)\n",
    "    \n",
    "    # Display the frame.\n",
    "    plt.subplot(5, 4, counter);plt.imshow(rgb_frame);plt.axis('off')"
   ]
  }
 ],
 "metadata": {
  "kernelspec": {
   "display_name": "Python 3.8.10 64-bit",
   "language": "python",
   "name": "python3"
  },
  "language_info": {
   "codemirror_mode": {
    "name": "ipython",
    "version": 3
   },
   "file_extension": ".py",
   "mimetype": "text/x-python",
   "name": "python",
   "nbconvert_exporter": "python",
   "pygments_lexer": "ipython3",
   "version": "3.8.10"
  },
  "orig_nbformat": 4,
  "vscode": {
   "interpreter": {
    "hash": "31f2aee4e71d21fbe5cf8b01ff0e069b9275f58929596ceb00d14d90e3e16cd6"
   }
  }
 },
 "nbformat": 4,
 "nbformat_minor": 2
}
